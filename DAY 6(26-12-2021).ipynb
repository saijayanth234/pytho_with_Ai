{
 "cells": [
  {
   "cell_type": "markdown",
   "id": "3fe66d8b",
   "metadata": {},
   "source": [
    "# PYTHON OPERATORS\n",
    "- TO PERFORM OPERATIONS ON both variables and values\n"
   ]
  },
  {
   "cell_type": "markdown",
   "id": "413779a1",
   "metadata": {},
   "source": [
    "# Airthmetic operations:\n",
    "- used to perform mathmetical operations\n",
    "     - operators:\n",
    "     "
   ]
  },
  {
   "cell_type": "code",
   "execution_count": 4,
   "id": "efaea695",
   "metadata": {},
   "outputs": [
    {
     "name": "stdout",
     "output_type": "stream",
     "text": [
      "15\n",
      "5\n",
      "50\n",
      "2.0\n",
      "0\n",
      "100000\n",
      "2\n"
     ]
    }
   ],
   "source": [
    "x = 10\n",
    "y = 5\n",
    "print(x+y)\n",
    "print(x-y)\n",
    "print(x*y)\n",
    "print(x/y)\n",
    "print(x%y)\n",
    "print(x**y)\n",
    "print(x//y)"
   ]
  },
  {
   "cell_type": "markdown",
   "id": "fc94f057",
   "metadata": {},
   "source": [
    "# Assignment operators:()\n"
   ]
  },
  {
   "cell_type": "code",
   "execution_count": 10,
   "id": "48ecdf2e",
   "metadata": {},
   "outputs": [
    {
     "name": "stdout",
     "output_type": "stream",
     "text": [
      "7\n",
      "2\n",
      "6\n",
      "1\n",
      "0\n",
      "16\n"
     ]
    }
   ],
   "source": [
    "x = 3\n",
    "x +=4\n",
    "print(x)\n",
    "x-=5\n",
    "print(x)\n",
    "x *= 3\n",
    "print(x)\n",
    "x %=  5\n",
    "print(x)\n",
    "x //=4\n",
    "print(x)\n",
    "x = 4\n",
    "x**=2\n",
    "print(x)"
   ]
  },
  {
   "cell_type": "markdown",
   "id": "18de0019",
   "metadata": {},
   "source": [
    "# comparision operators:\n"
   ]
  },
  {
   "cell_type": "code",
   "execution_count": 11,
   "id": "119a4053",
   "metadata": {},
   "outputs": [
    {
     "name": "stdout",
     "output_type": "stream",
     "text": [
      "False\n",
      "True\n",
      "True\n",
      "False\n",
      "True\n",
      "False\n"
     ]
    }
   ],
   "source": [
    "x = 4\n",
    "y =12\n",
    "print(x==y)\n",
    "print(x!=y)\n",
    "print(x<y)\n",
    "print(x>y)\n",
    "print(x<=y)\n",
    "print(x>=y)\n",
    "\n"
   ]
  },
  {
   "cell_type": "code",
   "execution_count": 14,
   "id": "d071db47",
   "metadata": {},
   "outputs": [
    {
     "name": "stdout",
     "output_type": "stream",
     "text": [
      "False\n",
      "True\n",
      "False\n"
     ]
    }
   ],
   "source": [
    "x = 5\n",
    "print(x <3 and x>7)\n",
    "print(x >3 or x>7)\n",
    "print(not(x >3 or x>7))\n",
    "\n"
   ]
  },
  {
   "cell_type": "markdown",
   "id": "a79eab4e",
   "metadata": {},
   "source": [
    "# identity operators"
   ]
  },
  {
   "cell_type": "code",
   "execution_count": 15,
   "id": "167b0de3",
   "metadata": {},
   "outputs": [
    {
     "name": "stdout",
     "output_type": "stream",
     "text": [
      "True\n",
      "True\n",
      "False\n",
      "True\n",
      "False\n"
     ]
    }
   ],
   "source": [
    "a= 4\n",
    "b =4\n",
    "c=3\n",
    "print(a is b)\n",
    "print (a is b)\n",
    "print(a is c)\n",
    "print(b is not c)\n",
    "print(b is not a)"
   ]
  },
  {
   "cell_type": "markdown",
   "id": "b8dbfecd",
   "metadata": {},
   "source": [
    "# membership operator:\n",
    "- used to text given sequences presented in object\\\n",
    "- operators\n",
    " - \"in\"\n",
    " -  \"not in\""
   ]
  },
  {
   "cell_type": "code",
   "execution_count": 21,
   "id": "537806d5",
   "metadata": {},
   "outputs": [
    {
     "name": "stdout",
     "output_type": "stream",
     "text": [
      "True\n",
      "True\n",
      "False\n",
      "True\n"
     ]
    }
   ],
   "source": [
    "a = \"sai jayanth\"\n",
    "print(\"sai\"in a)\n",
    "print(\"i\"in a)\n",
    "print(\"si\"in a)\n",
    "print(\"jai\"not in a)"
   ]
  },
  {
   "cell_type": "markdown",
   "id": "f02d42c5",
   "metadata": {},
   "source": [
    "# control flow statements\n",
    " - c"
   ]
  },
  {
   "cell_type": "markdown",
   "id": "e89280c3",
   "metadata": {},
   "source": [
    "# if else statement:\n"
   ]
  },
  {
   "cell_type": "code",
   "execution_count": 22,
   "id": "7f7173b8",
   "metadata": {},
   "outputs": [
    {
     "ename": "SyntaxError",
     "evalue": "invalid syntax (<ipython-input-22-6a6163367b68>, line 4)",
     "output_type": "error",
     "traceback": [
      "\u001b[1;36m  File \u001b[1;32m\"<ipython-input-22-6a6163367b68>\"\u001b[1;36m, line \u001b[1;32m4\u001b[0m\n\u001b[1;33m    elif:\u001b[0m\n\u001b[1;37m        ^\u001b[0m\n\u001b[1;31mSyntaxError\u001b[0m\u001b[1;31m:\u001b[0m invalid syntax\n"
     ]
    }
   ],
   "source": [
    "# syntax:\n",
    "if boolen_condition:\n",
    "    statement\n",
    "elif:\n",
    "    statement\n",
    "else:\n",
    "    statement\n",
    "    \n"
   ]
  },
  {
   "cell_type": "code",
   "execution_count": 25,
   "id": "a2728f4e",
   "metadata": {},
   "outputs": [
    {
     "name": "stdout",
     "output_type": "stream",
     "text": [
      "enter a number4\n",
      "even number\n"
     ]
    }
   ],
   "source": [
    "# check given even or odd\n",
    "n = int(input(\"enter a number\"))\n",
    "if n%2 ==0:\n",
    "    print(\"even number\")\n",
    "else:\n",
    "    print(\"odd number\")"
   ]
  },
  {
   "cell_type": "code",
   "execution_count": 29,
   "id": "b028ce8e",
   "metadata": {},
   "outputs": [
    {
     "name": "stdout",
     "output_type": "stream",
     "text": [
      "enter a number12\n",
      "no\n"
     ]
    }
   ],
   "source": [
    "#check given number is multiple of both 3&5\n",
    "n = int(input(\"enter a number\"))\n",
    "if n%3==0 and n%5==0:\n",
    "     print(\"yes\")\n",
    "else :\n",
    "     print(\"no\")"
   ]
  },
  {
   "cell_type": "code",
   "execution_count": 50,
   "id": "3840e761",
   "metadata": {},
   "outputs": [
    {
     "name": "stdout",
     "output_type": "stream",
     "text": [
      "enter a number5\n",
      "positive\n"
     ]
    }
   ],
   "source": [
    "#check given number is positive or negative or zero\n",
    "n = int(input(\"enter a number\"))\n",
    "if n>0 :\n",
    "    print(\"positive\")\n",
    "elif  n<0 :\n",
    "    print(\"negative\")\n",
    "else  :\n",
    "    print(\"zero\")    "
   ]
  },
  {
   "cell_type": "code",
   "execution_count": 51,
   "id": "82b55bfd",
   "metadata": {},
   "outputs": [
    {
     "name": "stdout",
     "output_type": "stream",
     "text": [
      "enter a number5\n",
      "enter a number6\n",
      "enter a number3\n",
      "m is large number \n"
     ]
    }
   ],
   "source": [
    "#find the large nuber by giving 3 inputs\n",
    "n = int(input(\"enter a number\"))\n",
    "m = int(input(\"enter a number\"))\n",
    "k= int(input(\"enter a number\"))\n",
    "if n<m and n<k :\n",
    "    print(\"n is large number\")\n",
    "elif  m>n and m>k :\n",
    "    print(\"m is large number \")\n",
    "elif   k>n and k>m :\n",
    "    print(\"k is  large number\")"
   ]
  },
  {
   "cell_type": "code",
   "execution_count": 68,
   "id": "7784c9ba",
   "metadata": {},
   "outputs": [
    {
     "name": "stdout",
     "output_type": "stream",
     "text": [
      "enter marks55\n",
      "c\n"
     ]
    }
   ],
   "source": [
    "# find the grading\n",
    "n = int(input(\"enter marks\"))\n",
    "if n>80 :\n",
    "    print(\"A\")\n",
    "elif n<80 and n>60 :\n",
    "    print(\"B\")\n",
    "elif n>50 and n<60 :\n",
    "    print (\"c\")\n",
    "elif  n>25 and n<45 :\n",
    "    print (\"d\")\n",
    "elif n<25 :\n",
    "    print (\"f\")\n",
    "    "
   ]
  },
  {
   "cell_type": "markdown",
   "id": "708a28aa",
   "metadata": {},
   "source": [
    "#"
   ]
  },
  {
   "cell_type": "code",
   "execution_count": 29,
   "id": "44e1cefa",
   "metadata": {},
   "outputs": [
    {
     "name": "stdout",
     "output_type": "stream",
     "text": [
      "2\n",
      "4\n",
      "6\n",
      "8\n",
      "10\n"
     ]
    }
   ],
   "source": [
    "#print 1 to 10 numbers\n",
    "i= 1\n",
    "while i<11:\n",
    "    if i%2==0:\n",
    "        print(i)\n",
    "    i = i+1"
   ]
  },
  {
   "cell_type": "code",
   "execution_count": null,
   "id": "4d75c579",
   "metadata": {},
   "outputs": [
    {
     "name": "stdout",
     "output_type": "stream",
     "text": [
      "12\n",
      "1\n",
      "2\n",
      "3\n",
      "4\n"
     ]
    }
   ],
   "source": [
    "#input : 6 o/p: 1,2,3,6\n",
    "i=1\n",
    "n = int(input())\n",
    "while i<=n:\n",
    "      if n%i==0:\n",
    "        print(i)\n",
    "        i=i+1\n",
    "    \n",
    "    "
   ]
  },
  {
   "cell_type": "code",
   "execution_count": null,
   "id": "7f8badf7",
   "metadata": {},
   "outputs": [],
   "source": []
  }
 ],
 "metadata": {
  "kernelspec": {
   "display_name": "Python 3",
   "language": "python",
   "name": "python3"
  },
  "language_info": {
   "codemirror_mode": {
    "name": "ipython",
    "version": 3
   },
   "file_extension": ".py",
   "mimetype": "text/x-python",
   "name": "python",
   "nbconvert_exporter": "python",
   "pygments_lexer": "ipython3",
   "version": "3.8.8"
  }
 },
 "nbformat": 4,
 "nbformat_minor": 5
}
